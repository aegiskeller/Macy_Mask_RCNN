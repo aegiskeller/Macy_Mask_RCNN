{
 "cells": [
  {
   "cell_type": "code",
   "execution_count": 12,
   "metadata": {},
   "outputs": [],
   "source": [
    "import os\n",
    "import sys\n",
    "import json\n",
    "\n",
    "dataset_dir = \"C:/Users/Stefan Keller/Documents/deep_learning_for_computer_vision/code/chapter_26/kangaroos/datasets/kangaroos/train\"\n",
    "\n",
    "        # Load annotations\n",
    "        # VGG Image Annotator (up to version 1.6) saves each image in the form:\n",
    "        # { 'filename': '28503151_5b5b7ec140_b.jpg',\n",
    "        #   'regions': {\n",
    "        #       '0': {\n",
    "        #           'region_attributes': {},\n",
    "        #           'shape_attributes': {\n",
    "        #               'all_points_x': [...],\n",
    "        #               'all_points_y': [...],\n",
    "        #               'name': 'polygon'}},\n",
    "        #       ... more regions ...\n",
    "        #   },\n",
    "        #   'size': 100202\n",
    "        # }\n",
    "        # We mostly care about the x and y coordinates of each region\n",
    "        # Note: In VIA 2.0, regions was changed from a dict to a list.\n",
    "annotations = json.load(open(os.path.join(dataset_dir, \"via_export_json.json\")))\n",
    "annotations = list(annotations.values())  # don't need the dict keys\n",
    "\n",
    "        # The VIA tool saves images in the JSON even if they don't have any\n",
    "        # annotations. Skip unannotated images.\n",
    "annotations = [a for a in annotations if a['regions']]\n"
   ]
  },
  {
   "cell_type": "code",
   "execution_count": 14,
   "metadata": {},
   "outputs": [
    {
     "name": "stdout",
     "output_type": "stream",
     "text": [
      "[{'filename': 'kangaroo_sample.jpg', 'size': 302152, 'regions': [{'shape_attributes': {'name': 'polygon', 'all_points_x': [584, 588, 560, 555, 583, 602, 598, 623, 650, 654, 616, 631, 673, 690, 704, 722, 766, 774, 760, 738, 736, 764, 800, 833, 851, 829, 811, 811, 784, 789, 750, 760, 702, 679, 631, 612, 616], 'all_points_y': [992, 887, 788, 726, 650, 633, 535, 456, 403, 316, 264, 251, 264, 291, 291, 259, 248, 254, 301, 322, 386, 509, 614, 656, 753, 839, 882, 986, 983, 864, 862, 941, 936, 862, 845, 874, 984]}, 'region_attributes': {'kangaroo': 'kangaroo'}}, {'shape_attributes': {'name': 'polygon', 'all_points_x': [1047, 1057, 1033, 1040, 1042, 1023, 1039, 1065, 1068, 1095, 1090, 1141, 1171, 1206, 1250, 1253, 1197, 1158, 1122, 1127, 1150, 1126, 1091, 1074, 1056, 1025, 1023, 1040], 'all_points_y': [502, 569, 637, 727, 789, 842, 910, 983, 1040, 1031, 943, 980, 1025, 1017, 905, 802, 719, 633, 572, 484, 431, 416, 456, 465, 434, 422, 450, 484]}, 'region_attributes': {'kangaroo': 'kangaroo'}}, {'shape_attributes': {'name': 'polygon', 'all_points_x': [1349, 1332, 1284, 1293, 1324, 1324, 1326, 1301, 1312, 1321, 1336, 1344, 1324, 1335, 1346, 1349, 1375, 1391, 1436, 1411, 1436, 1448, 1443, 1485, 1498, 1543, 1595, 1564, 1575, 1499, 1395, 1392, 1411, 1426, 1408, 1380, 1367], 'all_points_y': [386, 357, 349, 389, 416, 450, 488, 544, 729, 755, 761, 726, 690, 629, 691, 747, 825, 926, 941, 842, 837, 864, 946, 952, 843, 940, 901, 817, 698, 597, 488, 405, 392, 352, 346, 363, 380]}, 'region_attributes': {'kangaroo': 'kangaroo'}}], 'file_attributes': {}}]\n"
     ]
    }
   ],
   "source": [
    "print(annotations)"
   ]
  },
  {
   "cell_type": "code",
   "execution_count": null,
   "metadata": {},
   "outputs": [],
   "source": []
  }
 ],
 "metadata": {
  "kernelspec": {
   "display_name": "Python 3",
   "language": "python",
   "name": "python3"
  },
  "language_info": {
   "codemirror_mode": {
    "name": "ipython",
    "version": 3
   },
   "file_extension": ".py",
   "mimetype": "text/x-python",
   "name": "python",
   "nbconvert_exporter": "python",
   "pygments_lexer": "ipython3",
   "version": "3.7.4"
  }
 },
 "nbformat": 4,
 "nbformat_minor": 4
}
